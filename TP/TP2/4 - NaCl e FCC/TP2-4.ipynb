{
 "cells": [
  {
   "cell_type": "code",
   "execution_count": 5,
   "metadata": {},
   "outputs": [],
   "source": [
    "from vpython import sphere,vector,color\n",
    "def NaCl():\n",
    "    L = 5\n",
    "    R = 0.3\n",
    "    for i in range(-L,L+1,2):\n",
    "        for j in range(-L,L+1,2):\n",
    "            for k in range(-L,L+1,2):\n",
    "                sphere(pos=vector(i,j,k),radius=R*2,color=color.red)\n",
    "\n",
    "    for i in range(-L+1,L,2):\n",
    "        for j in range(-L+1,L,2):\n",
    "            for k in range(-L+1,L,2):\n",
    "                sphere(pos=vector(i,j,k),radius=R,color=color.cyan)"
   ]
  },
  {
   "cell_type": "code",
   "execution_count": 6,
   "metadata": {},
   "outputs": [],
   "source": [
    "from vpython import sphere,vector,color\n",
    "def Tfcc():\n",
    "    L = 2\n",
    "    R = 0.3\n",
    "    for i in range(-L,L+1,2):\n",
    "        for j in range(-L,L+1,2):\n",
    "            for k in range(-L,L+1,2):\n",
    "                sphere(pos=vector(i,j,k),radius=R)\n",
    "                sphere(pos=vector(i+1,j+1,k),radius=R)\n",
    "                sphere(pos=vector(i,j+1,k+1),radius=R)\n",
    "                sphere(pos=vector(i+1,j,k+1),radius=R)\n",
    "Tfcc()"
   ]
  }
 ],
 "metadata": {
  "kernelspec": {
   "display_name": "VPython",
   "language": "python",
   "name": "vpython"
  },
  "language_info": {
   "codemirror_mode": {
    "name": "ipython",
    "version": 3
   },
   "file_extension": ".py",
   "mimetype": "text/x-python",
   "name": "python",
   "nbconvert_exporter": "python",
   "pygments_lexer": "ipython3",
   "version": "3.7.1"
  }
 },
 "nbformat": 4,
 "nbformat_minor": 2
}
