{
 "cells": [
  {
   "cell_type": "code",
   "execution_count": null,
   "metadata": {},
   "outputs": [
    {
     "data": {
      "application/javascript": [
       "if (typeof Jupyter !== \"undefined\") {require.undef(\"nbextensions/vpython_libraries/glow.min\");}else{element.textContent = ' ';}"
      ],
      "text/plain": [
       "<IPython.core.display.Javascript object>"
      ]
     },
     "metadata": {},
     "output_type": "display_data"
    },
    {
     "data": {
      "application/javascript": [
       "if (typeof Jupyter !== \"undefined\") {require.undef(\"nbextensions/vpython_libraries/glowcomm\");}else{element.textContent = ' ';}"
      ],
      "text/plain": [
       "<IPython.core.display.Javascript object>"
      ]
     },
     "metadata": {},
     "output_type": "display_data"
    },
    {
     "data": {
      "application/javascript": [
       "if (typeof Jupyter !== \"undefined\") {require.undef(\"nbextensions/vpython_libraries/jquery-ui.custom.min\");}else{element.textContent = ' ';}"
      ],
      "text/plain": [
       "<IPython.core.display.Javascript object>"
      ]
     },
     "metadata": {},
     "output_type": "display_data"
    },
    {
     "data": {
      "application/javascript": [
       "if (typeof Jupyter !== \"undefined\") {require([\"nbextensions/vpython_libraries/glow.min\"], function(){console.log(\"GLOW LOADED\");});}else{element.textContent = ' ';}"
      ],
      "text/plain": [
       "<IPython.core.display.Javascript object>"
      ]
     },
     "metadata": {},
     "output_type": "display_data"
    },
    {
     "data": {
      "application/javascript": [
       "if (typeof Jupyter !== \"undefined\") {require([\"nbextensions/vpython_libraries/glowcomm\"], function(){console.log(\"GLOWCOMM LOADED\");});}else{element.textContent = ' ';}"
      ],
      "text/plain": [
       "<IPython.core.display.Javascript object>"
      ]
     },
     "metadata": {},
     "output_type": "display_data"
    },
    {
     "data": {
      "application/javascript": [
       "if (typeof Jupyter !== \"undefined\") {require([\"nbextensions/vpython_libraries/jquery-ui.custom.min\"], function(){console.log(\"JQUERY LOADED\");});}else{element.textContent = ' ';}"
      ],
      "text/plain": [
       "<IPython.core.display.Javascript object>"
      ]
     },
     "metadata": {},
     "output_type": "display_data"
    },
    {
     "data": {
      "text/html": [
       "<div id=\"glowscript\" class=\"glowscript\"></div>"
      ],
      "text/plain": [
       "<IPython.core.display.HTML object>"
      ]
     },
     "metadata": {},
     "output_type": "display_data"
    },
    {
     "data": {
      "application/javascript": [
       "if (typeof Jupyter !== \"undefined\") { window.__context = { glowscript_container: $(\"#glowscript\").removeAttr(\"id\")};}else{ element.textContent = ' ';}"
      ],
      "text/plain": [
       "<IPython.core.display.Javascript object>"
      ]
     },
     "metadata": {},
     "output_type": "display_data"
    }
   ],
   "source": [
    "from vpython import sphere,vector,rate,color\n",
    "from math import sin,cos,pi,sqrt\n",
    "from numpy import arange,array,empty,linspace\n",
    "\n",
    "# Raios dos Planetas\n",
    "\n",
    "raio_mercurio = 2440\n",
    "raio_venus = 6052\n",
    "raio_terra = 6371\n",
    "raio_marte = 3386\n",
    "raio_jupiter = 69173\n",
    "raio_saturno = 57316\n",
    "raio_sol = 695500\n",
    "\n",
    "raios = array([2440,6052,6371,3386,69173,57316],float)\n",
    "\n",
    "# Orbitas dos Planetas\n",
    "\n",
    "orbita_mercurio = 57.9\n",
    "orbita_venus = 108.2\n",
    "orbita_terra = 149.6\n",
    "orbita_marte = 227.9\n",
    "orbita_jupiter = 778.5\n",
    "orbita_saturno = 1433.4\n",
    "\n",
    "orbitas = 20 * (150 + array([57.9,108.2,149.6,227.9,778.5,1433.4],float))\n",
    "\n",
    "#Períodos de Orbita\n",
    "\n",
    "Torbita_mercurio = 88.0\n",
    "Torbita_venus = 224.7\n",
    "Torbita_terra = 365.3\n",
    "Torbita_marte = 687.0\n",
    "Torbita_jupiter = 4331.6\n",
    "Torbita_saturno = 10759.2\n",
    "\n",
    "Periodos = array([88.0*2,224.7,365.3,687.0,4331.6/10,10759.2/10],float) #jupiter e saturno com velocidade 10x maior q a original\n",
    "#Mercurio com metade da velocidade original\n",
    "\n",
    "# Criar o Sol \n",
    "Sol = sphere(radius = raio_sol/raio_mercurio/5,color=color.yellow)\n",
    "\n",
    "# Cores dos Planetas\n",
    "\n",
    "Cores = array([color.red,color.orange,color.blue,color.red,color.white,color.cyan],color)\n",
    "\n",
    "# Criar Planetas\n",
    "\n",
    "Planetas = empty(6,sphere)\n",
    "for i in range(len(raios)):\n",
    "    Planetas[i] = sphere(pos=vector(orbitas[i]/orbita_mercurio,0,0),radius = raios[i]/raio_mercurio,color=Cores[i],make_trail=True)\n",
    "\n",
    "# Transladar Planetas\n",
    "for t in arange(0,100,0.01):   \n",
    "        for j in range(6):\n",
    "                rate(90)\n",
    "                x = (orbitas[j]/orbita_mercurio) * cos(100*t*2*pi/Periodos[j])\n",
    "                y = (orbitas[j]/orbita_mercurio) * sin(100*t*2*pi/Periodos[j])\n",
    "                Planetas[j].pos=vector(x,y,0)"
   ]
  },
  {
   "cell_type": "code",
   "execution_count": null,
   "metadata": {},
   "outputs": [],
   "source": []
  }
 ],
 "metadata": {
  "kernelspec": {
   "display_name": "VPython",
   "language": "python",
   "name": "vpython"
  },
  "language_info": {
   "codemirror_mode": {
    "name": "ipython",
    "version": 3
   },
   "file_extension": ".py",
   "mimetype": "text/x-python",
   "name": "python",
   "nbconvert_exporter": "python",
   "pygments_lexer": "ipython3",
   "version": "3.7.1"
  }
 },
 "nbformat": 4,
 "nbformat_minor": 2
}
